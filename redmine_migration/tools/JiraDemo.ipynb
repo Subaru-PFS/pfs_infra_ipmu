{
 "cells": [
  {
   "cell_type": "code",
   "execution_count": null,
   "metadata": {},
   "outputs": [],
   "source": [
    "import check_jira"
   ]
  },
  {
   "cell_type": "code",
   "execution_count": null,
   "metadata": {},
   "outputs": [],
   "source": [
    "jira = check_jira.create_jira()"
   ]
  },
  {
   "cell_type": "code",
   "execution_count": null,
   "metadata": {},
   "outputs": [],
   "source": [
    "j_issue=jira.create_issue(project='TSP', \n",
    "                          summary='test python jira API', \n",
    "                          description='test JIRA api',\n",
    "                         issuetype={'name': 'Task'})"
   ]
  },
  {
   "cell_type": "code",
   "execution_count": null,
   "metadata": {},
   "outputs": [],
   "source": [
    "j_issue.key"
   ]
  },
  {
   "cell_type": "code",
   "execution_count": null,
   "metadata": {},
   "outputs": [],
   "source": [
    "comment = jira.add_comment(j_issue.key, 'new comment')"
   ]
  },
  {
   "cell_type": "code",
   "execution_count": null,
   "metadata": {},
   "outputs": [],
   "source": [
    "from io import StringIO\n",
    "attachment = StringIO()\n",
    "attachment.write('some data')\n",
    "jira.add_attachment(issue=j_issue, attachment=attachment, filename='content.txt')"
   ]
  },
  {
   "cell_type": "code",
   "execution_count": null,
   "metadata": {},
   "outputs": [],
   "source": [
    "j_issue.update()"
   ]
  },
  {
   "cell_type": "code",
   "execution_count": null,
   "metadata": {},
   "outputs": [],
   "source": [
    "for attachment in j_issue.fields.attachment:\n",
    "    print(\"Name: '{filename}', size: {size}\".format(\n",
    "        filename=attachment.filename, size=attachment.size))"
   ]
  },
  {
   "cell_type": "code",
   "execution_count": null,
   "metadata": {},
   "outputs": [],
   "source": [
    "j_issue.fields.attachment"
   ]
  },
  {
   "cell_type": "code",
   "execution_count": null,
   "metadata": {},
   "outputs": [],
   "source": [
    "for c in j_issue.fields.comment.comments:\n",
    "    print(c)"
   ]
  },
  {
   "cell_type": "code",
   "execution_count": null,
   "metadata": {},
   "outputs": [],
   "source": [
    "for a in j_issue.fields.attachment:\n",
    "    print(a)"
   ]
  },
  {
   "cell_type": "code",
   "execution_count": null,
   "metadata": {},
   "outputs": [],
   "source": [
    "print(j_issue.fields.attachment[0].id)"
   ]
  },
  {
   "cell_type": "code",
   "execution_count": null,
   "metadata": {},
   "outputs": [],
   "source": [
    "for attachment in j_issue.fields.attachment:\n",
    "    print(\"Id '{id}, Name: '{filename}', size: {size}\".format(\n",
    "        id=attachment.id, filename=attachment.filename, size=attachment.size))"
   ]
  },
  {
   "cell_type": "code",
   "execution_count": null,
   "metadata": {},
   "outputs": [],
   "source": [
    "jira.delete_attachment(j_issue.fields.attachment[0].id)"
   ]
  },
  {
   "cell_type": "code",
   "execution_count": null,
   "metadata": {},
   "outputs": [],
   "source": [
    "j_issue.update()"
   ]
  },
  {
   "cell_type": "code",
   "execution_count": null,
   "metadata": {},
   "outputs": [],
   "source": [
    "for c in j_issue.fields.comment.comments:\n",
    "    print(c)"
   ]
  },
  {
   "cell_type": "code",
   "execution_count": null,
   "metadata": {},
   "outputs": [],
   "source": [
    "for a in j_issue.fields.attachment:\n",
    "    print(a)"
   ]
  },
  {
   "cell_type": "code",
   "execution_count": null,
   "metadata": {},
   "outputs": [],
   "source": [
    "j_issue.id"
   ]
  },
  {
   "cell_type": "markdown",
   "metadata": {},
   "source": [
    "### Check transitions"
   ]
  },
  {
   "cell_type": "code",
   "execution_count": null,
   "metadata": {},
   "outputs": [],
   "source": [
    "jira.transitions(j_issue.id)"
   ]
  },
  {
   "cell_type": "code",
   "execution_count": null,
   "metadata": {},
   "outputs": [],
   "source": [
    "jira.transition_issue(j_issue.key, '31')"
   ]
  },
  {
   "cell_type": "code",
   "execution_count": null,
   "metadata": {},
   "outputs": [],
   "source": [
    "j_issue.key"
   ]
  },
  {
   "cell_type": "code",
   "execution_count": null,
   "metadata": {},
   "outputs": [],
   "source": [
    "jira.transition_issue(j_issue.key, '11')"
   ]
  },
  {
   "cell_type": "code",
   "execution_count": null,
   "metadata": {},
   "outputs": [],
   "source": [
    "j_issue=jira.issue('TSP-22')"
   ]
  },
  {
   "cell_type": "code",
   "execution_count": null,
   "metadata": {},
   "outputs": [],
   "source": [
    "jira.transitions(j_issue.id)"
   ]
  },
  {
   "cell_type": "code",
   "execution_count": null,
   "metadata": {},
   "outputs": [],
   "source": [
    "j_issue.fields.status"
   ]
  },
  {
   "cell_type": "code",
   "execution_count": null,
   "metadata": {},
   "outputs": [],
   "source": [
    "j_issue.key"
   ]
  },
  {
   "cell_type": "code",
   "execution_count": null,
   "metadata": {},
   "outputs": [],
   "source": [
    "jira.transition_issue('TSP-22', 'In Progress')"
   ]
  },
  {
   "cell_type": "code",
   "execution_count": null,
   "metadata": {},
   "outputs": [],
   "source": [
    "for j in jira.search_issues('project = TSP AND text ~ RM'):\n",
    "    print(j.key)\n",
    "    j.update(summary=j.fields.summary.replace(r'OLD:[RM:', '[OLD-RM'))"
   ]
  },
  {
   "cell_type": "code",
   "execution_count": 1,
   "metadata": {},
   "outputs": [
    {
     "name": "stderr",
     "output_type": "stream",
     "text": [
      "/Users/hassans/.local/lib/python3.7/site-packages/requests/__init__.py:91: RequestsDependencyWarning: urllib3 (1.26.4) or chardet (3.0.4) doesn't match a supported version!\n",
      "  RequestsDependencyWarning)\n"
     ]
    }
   ],
   "source": [
    "import check_redmine"
   ]
  },
  {
   "cell_type": "code",
   "execution_count": 2,
   "metadata": {},
   "outputs": [],
   "source": [
    "redmine_lib, redmine_iss = check_redmine.create_redmine()"
   ]
  },
  {
   "cell_type": "code",
   "execution_count": 7,
   "metadata": {},
   "outputs": [
    {
     "name": "stdout",
     "output_type": "stream",
     "text": [
      "6507\n",
      "6506\n",
      "6505\n",
      "6504\n",
      "6503\n",
      "6499\n",
      "6492\n",
      "6491\n",
      "6489\n",
      "6486\n",
      "6485\n",
      "6483\n",
      "6481\n",
      "6477\n",
      "6476\n",
      "6471\n",
      "6470\n",
      "6469\n",
      "6467\n",
      "6462\n",
      "6459\n",
      "6452\n",
      "6451\n",
      "6447\n",
      "6435\n",
      "6421\n",
      "6420\n",
      "6398\n",
      "6397\n",
      "6394\n",
      "6379\n",
      "6371\n",
      "6360\n",
      "6353\n",
      "6343\n",
      "6341\n",
      "6329\n",
      "6325\n",
      "6309\n",
      "6308\n",
      "6295\n",
      "6266\n",
      "6263\n",
      "6196\n",
      "6195\n",
      "6192\n",
      "6181\n",
      "6176\n",
      "6172\n",
      "6168\n",
      "6165\n",
      "6164\n",
      "6161\n",
      "6158\n",
      "6154\n",
      "6139\n",
      "6135\n",
      "6126\n",
      "6123\n",
      "6108\n",
      "6106\n",
      "6103\n",
      "6091\n",
      "6087\n",
      "6086\n",
      "6059\n",
      "6052\n",
      "6041\n",
      "6034\n",
      "6028\n",
      "6023\n",
      "6019\n",
      "6000\n",
      "5999\n",
      "5998\n",
      "5994\n",
      "5993\n",
      "5991\n",
      "5988\n",
      "5987\n",
      "5978\n",
      "5977\n",
      "5974\n",
      "5973\n",
      "5972\n",
      "5970\n",
      "5958\n",
      "5940\n",
      "5939\n",
      "5938\n",
      "5937\n",
      "5936\n",
      "5931\n",
      "5926\n",
      "5921\n",
      "5917\n",
      "5915\n",
      "5905\n",
      "5811\n",
      "5806\n",
      "5803\n",
      "5775\n",
      "5774\n",
      "5740\n",
      "5692\n",
      "5691\n",
      "5654\n",
      "5653\n",
      "5651\n",
      "5650\n",
      "5649\n",
      "5645\n",
      "5644\n",
      "5643\n",
      "5642\n",
      "5638\n",
      "5630\n",
      "5614\n",
      "5547\n",
      "5473\n",
      "5139\n",
      "121\n"
     ]
    }
   ],
   "source": [
    "count = 0\n",
    "for r in redmine_lib.issue.filter(status='Open'):\n",
    "    print(r.id)\n",
    "    count+=1\n",
    "print(count)"
   ]
  },
  {
   "cell_type": "code",
   "execution_count": null,
   "metadata": {},
   "outputs": [],
   "source": []
  }
 ],
 "metadata": {
  "kernelspec": {
   "display_name": "Python 3.7.2 64-bit",
   "language": "python",
   "name": "python37264bit0f2cae7b8b6640dfa3cbf089898ab9cc"
  },
  "language_info": {
   "codemirror_mode": {
    "name": "ipython",
    "version": 3
   },
   "file_extension": ".py",
   "mimetype": "text/x-python",
   "name": "python",
   "nbconvert_exporter": "python",
   "pygments_lexer": "ipython3",
   "version": "3.7.2"
  }
 },
 "nbformat": 4,
 "nbformat_minor": 2
}
